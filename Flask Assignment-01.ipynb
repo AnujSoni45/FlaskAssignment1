{
 "cells": [
  {
   "cell_type": "code",
   "execution_count": null,
   "id": "486b70b6-fb41-4073-bb63-a5c52fb30341",
   "metadata": {},
   "outputs": [],
   "source": [
    "Q1. What is Flask Framework? What are the advantages of Flask Framework? \n"
   ]
  },
  {
   "cell_type": "code",
   "execution_count": null,
   "id": "9ac16303-12ca-4639-b338-076a813882ae",
   "metadata": {},
   "outputs": [],
   "source": [
    "(Answer):\n",
    "Flask is a lightweight and flexible Python web framework that is commonly used to build web applications. It is \n",
    "designed to be simple and easy to use, making it a popular choice for developers who want to quickly create web\n",
    "applications without the overhead of a more complex framework. Flask follows the WSGI (Web Server Gateway Interface) \n",
    "specification, which allows it to interact with different web servers and platforms.\n",
    "\n",
    "Advantages of Flask Framework:\n",
    "\n",
    "Simplicity: Flask's minimalistic design and intuitive syntax make it easy for developers to get started quickly, especially for small to medium-sized projects.\n",
    "\n",
    "Flexibility: Flask's \"micro\" nature allows developers to choose and integrate only the components they need, making it suitable for a wide range of applications.\n",
    "\n",
    "Extensibility: Flask has a vibrant ecosystem of extensions that provide additional functionalities, allowing developers to enhance their applications without starting from scratch.\n",
    "\n",
    "Community and Documentation: Flask has an active community and comprehensive documentation, making it easy to find help, tutorials, and resources online."
   ]
  },
  {
   "cell_type": "code",
   "execution_count": null,
   "id": "e648f17f-029e-43c3-85a1-40ee6d057356",
   "metadata": {},
   "outputs": [],
   "source": [
    "Q2. Create a simple Flask application to display ‘Hello World!!’. Attach the screenshot of the output in Jupyter Notebook. \n"
   ]
  },
  {
   "cell_type": "code",
   "execution_count": null,
   "id": "6fea85cc-550a-4c99-9206-31aec1b9575f",
   "metadata": {},
   "outputs": [],
   "source": [
    "Output:"
   ]
  },
  {
   "cell_type": "markdown",
   "id": "6816645c-c65c-4ca3-b418-c94c20b09c3e",
   "metadata": {},
   "source": [
    "![](Output2.png)\n",
    "\n"
   ]
  },
  {
   "cell_type": "markdown",
   "id": "5c614d25-6700-4bf7-ae68-15c2f1d66b76",
   "metadata": {},
   "source": [
    "Q3. What is App routing in Flask? Why do we use app routes? \n"
   ]
  },
  {
   "cell_type": "code",
   "execution_count": null,
   "id": "59a143ee-60f1-4122-833a-00f12393aa76",
   "metadata": {},
   "outputs": [],
   "source": [
    "(Answer):\n",
    "In Flask, a popular web framework for Python, \"app routing\" refers to the process of defining URL routes that \n",
    "map to specific functions (view functions) within your application. These routes determine how the application \n",
    "responds to different URLs, allowing you to create different pages and endpoints within your web application.\n",
    "\n",
    "In a web application, users interact with the system by requesting different URLs through their web browser or \n",
    "other HTTP clients. Each URL corresponds to a specific resource or functionality that the application should \n",
    "provide. App routing in Flask helps you manage these URLs and map them to the appropriate code that generates the\n",
    "response for that URL."
   ]
  },
  {
   "cell_type": "code",
   "execution_count": null,
   "id": "0e33d164-b7f9-4372-96a3-faac5c762987",
   "metadata": {},
   "outputs": [],
   "source": [
    "Q4.  Create a “/welcome” route to display the welcome message “Welcome to ABC Corporation” and a “/”  route to show the following details: \n",
    "    Company Name: ABC Corporation \n",
    "    Location: India \n",
    "    Contact Detail: 999-999-9999  \n",
    "Attach the screenshot of the output in Jupyter Notebook. \n"
   ]
  },
  {
   "cell_type": "markdown",
   "id": "d8580a69-1902-4581-988a-b9b1a4aefdf4",
   "metadata": {},
   "source": [
    "![](Output1.png)\n"
   ]
  },
  {
   "cell_type": "markdown",
   "id": "99b71a83-ce1d-412f-b2dd-0acb10716530",
   "metadata": {},
   "source": [
    "![](output.png)\n",
    "\n",
    "\n",
    "    "
   ]
  },
  {
   "cell_type": "code",
   "execution_count": null,
   "id": "dfa7b3d5-e1fe-4490-8ca6-adb687e2288a",
   "metadata": {},
   "outputs": [],
   "source": [
    "Q5. What function is used in Flask for URL Building? Write a Python code to demonstrate the working of the  \n",
    "url_for() function. \n"
   ]
  },
  {
   "cell_type": "code",
   "execution_count": null,
   "id": "2ce9c80a-0c72-4e98-ab88-57fdc9d5ef37",
   "metadata": {},
   "outputs": [],
   "source": [
    "(Answer):\n",
    "In Flask, the url_for() function is used for URL building. It generates a URL for a given endpoint and allows \n",
    "you to pass any arguments required by the route's view function. This function abstracts the actual URL structure, \n",
    "making it easier to manage changes to your routes without having to update URLs throughout your code.\n",
    "Example:\n",
    "from flask import Flask, url_for\n",
    "\n",
    "app = Flask(__name__)\n",
    "\n",
    "@app.route('/')\n",
    "def index():\n",
    "    return \"Home Page\"\n",
    "\n",
    "@app.route('/user/<username>')\n",
    "def profile(username):\n",
    "    return f\"Profile Page of {username}\"\n",
    "\n",
    "@app.route('/post/<int:post_id>')\n",
    "def post(post_id):\n",
    "    return f\"Post ID: {post_id}\"\n",
    "\n",
    "@app.route('/contact')\n",
    "def contact():\n",
    "    return \"Contact Us\"\n",
    "\n",
    "if __name__ == '__main__':\n",
    "    with app.test_request_context():\n",
    "        # Demonstrating the usage of url_for() function\n",
    "        print(url_for('index'))                    # Outputs: /\n",
    "        print(url_for('profile', username='john')) # Outputs: /user/john\n",
    "        print(url_for('post', post_id=123))        # Outputs: /post/123\n",
    "        print(url_for('contact'))                  # Outputs: /contact\n"
   ]
  },
  {
   "cell_type": "code",
   "execution_count": null,
   "id": "f7d6f35c-7574-4fe5-9c6d-7e403feabd6e",
   "metadata": {},
   "outputs": [],
   "source": []
  }
 ],
 "metadata": {
  "kernelspec": {
   "display_name": "Python 3 (ipykernel)",
   "language": "python",
   "name": "python3"
  },
  "language_info": {
   "codemirror_mode": {
    "name": "ipython",
    "version": 3
   },
   "file_extension": ".py",
   "mimetype": "text/x-python",
   "name": "python",
   "nbconvert_exporter": "python",
   "pygments_lexer": "ipython3",
   "version": "3.10.8"
  }
 },
 "nbformat": 4,
 "nbformat_minor": 5
}
